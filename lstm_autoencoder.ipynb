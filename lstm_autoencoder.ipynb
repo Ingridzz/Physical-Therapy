{
 "cells": [
  {
   "cell_type": "markdown",
   "metadata": {},
   "source": [
    "# LSTM Autoencoder"
   ]
  },
  {
   "cell_type": "markdown",
   "metadata": {},
   "source": [
    "## 1 load packages"
   ]
  },
  {
   "cell_type": "code",
   "execution_count": 23,
   "metadata": {},
   "outputs": [],
   "source": [
    "import numpy as np\n",
    "import pandas as pd\n",
    "import random\n",
    "import keras\n",
    "from pandas import read_csv\n",
    "from tensorflow.keras import datasets, layers, models\n",
    "from tensorflow.keras.models import Model, Sequential\n",
    "from keras.layers import Input, Dense, LSTM\n",
    "from keras.layers import Flatten\n",
    "from keras.layers import Dropout\n",
    "import matplotlib.pyplot as plt\n",
    "from keras.callbacks import EarlyStopping\n",
    "from keras.callbacks import ModelCheckpoint\n",
    "from sklearn.model_selection import train_test_split\n",
    "from tensorflow.keras.models import Model, Sequential\n",
    "import tensorflow as tf"
   ]
  },
  {
   "cell_type": "markdown",
   "metadata": {},
   "source": [
    "## 2 import data"
   ]
  },
  {
   "cell_type": "code",
   "execution_count": 2,
   "metadata": {
    "id": "DfexF3Xf2ut4"
   },
   "outputs": [],
   "source": [
    "import pandas as pd\n",
    "import numpy as np\n",
    "from matplotlib import pyplot as plt"
   ]
  },
  {
   "cell_type": "code",
   "execution_count": 3,
   "metadata": {
    "id": "kZ3sY3jRttIf"
   },
   "outputs": [],
   "source": [
    "GRFx = pd.read_csv('GRFx.csv', header = None)\n",
    "#GRFy = pd.read_csv('GRFy.csv', header = None)\n",
    "#GRFz = pd.read_csv('GRFz.csv', header = None)"
   ]
  },
  {
   "cell_type": "code",
   "execution_count": 4,
   "metadata": {
    "id": "LfXKs-v2HvTK"
   },
   "outputs": [],
   "source": [
    "#frames = [GRFx, GRFy, GRFz]\n",
    "#dat = pd.concat(frames)\n",
    "dat = GRFx"
   ]
  },
  {
   "cell_type": "code",
   "execution_count": 5,
   "metadata": {
    "colab": {
     "base_uri": "https://localhost:8080/"
    },
    "id": "57AorUooJHq5",
    "outputId": "290d84fa-d3d9-41c1-9284-07ffeadc2e12"
   },
   "outputs": [
    {
     "data": {
      "text/plain": [
       "(15696, 2990)"
      ]
     },
     "execution_count": 5,
     "metadata": {},
     "output_type": "execute_result"
    }
   ],
   "source": [
    "dat.shape"
   ]
  },
  {
   "cell_type": "code",
   "execution_count": 6,
   "metadata": {},
   "outputs": [
    {
     "data": {
      "text/html": [
       "<div>\n",
       "<style scoped>\n",
       "    .dataframe tbody tr th:only-of-type {\n",
       "        vertical-align: middle;\n",
       "    }\n",
       "\n",
       "    .dataframe tbody tr th {\n",
       "        vertical-align: top;\n",
       "    }\n",
       "\n",
       "    .dataframe thead th {\n",
       "        text-align: right;\n",
       "    }\n",
       "</style>\n",
       "<table border=\"1\" class=\"dataframe\">\n",
       "  <thead>\n",
       "    <tr style=\"text-align: right;\">\n",
       "      <th></th>\n",
       "      <th>0</th>\n",
       "      <th>1</th>\n",
       "      <th>2</th>\n",
       "      <th>3</th>\n",
       "      <th>4</th>\n",
       "      <th>5</th>\n",
       "      <th>6</th>\n",
       "      <th>7</th>\n",
       "      <th>8</th>\n",
       "      <th>9</th>\n",
       "      <th>...</th>\n",
       "      <th>1290</th>\n",
       "      <th>1291</th>\n",
       "      <th>1292</th>\n",
       "      <th>1293</th>\n",
       "      <th>1294</th>\n",
       "      <th>1295</th>\n",
       "      <th>1296</th>\n",
       "      <th>1297</th>\n",
       "      <th>1298</th>\n",
       "      <th>1299</th>\n",
       "    </tr>\n",
       "  </thead>\n",
       "  <tbody>\n",
       "    <tr>\n",
       "      <th>0</th>\n",
       "      <td>-4.029</td>\n",
       "      <td>-3.471</td>\n",
       "      <td>-2.999</td>\n",
       "      <td>-2.514</td>\n",
       "      <td>-1.720</td>\n",
       "      <td>-1.040</td>\n",
       "      <td>-0.634</td>\n",
       "      <td>-0.380</td>\n",
       "      <td>-0.191</td>\n",
       "      <td>0.066</td>\n",
       "      <td>...</td>\n",
       "      <td>0.0</td>\n",
       "      <td>0.0</td>\n",
       "      <td>0.0</td>\n",
       "      <td>0.0</td>\n",
       "      <td>0.0</td>\n",
       "      <td>0.0</td>\n",
       "      <td>0.0</td>\n",
       "      <td>0.0</td>\n",
       "      <td>0.0</td>\n",
       "      <td>0.0</td>\n",
       "    </tr>\n",
       "    <tr>\n",
       "      <th>1</th>\n",
       "      <td>-5.764</td>\n",
       "      <td>-3.506</td>\n",
       "      <td>-1.123</td>\n",
       "      <td>1.007</td>\n",
       "      <td>2.433</td>\n",
       "      <td>4.100</td>\n",
       "      <td>5.734</td>\n",
       "      <td>7.342</td>\n",
       "      <td>9.078</td>\n",
       "      <td>10.720</td>\n",
       "      <td>...</td>\n",
       "      <td>0.0</td>\n",
       "      <td>0.0</td>\n",
       "      <td>0.0</td>\n",
       "      <td>0.0</td>\n",
       "      <td>0.0</td>\n",
       "      <td>0.0</td>\n",
       "      <td>0.0</td>\n",
       "      <td>0.0</td>\n",
       "      <td>0.0</td>\n",
       "      <td>0.0</td>\n",
       "    </tr>\n",
       "    <tr>\n",
       "      <th>2</th>\n",
       "      <td>-7.060</td>\n",
       "      <td>-6.983</td>\n",
       "      <td>-6.535</td>\n",
       "      <td>-6.132</td>\n",
       "      <td>-5.218</td>\n",
       "      <td>-4.231</td>\n",
       "      <td>-3.070</td>\n",
       "      <td>-1.825</td>\n",
       "      <td>-0.783</td>\n",
       "      <td>0.181</td>\n",
       "      <td>...</td>\n",
       "      <td>0.0</td>\n",
       "      <td>0.0</td>\n",
       "      <td>0.0</td>\n",
       "      <td>0.0</td>\n",
       "      <td>0.0</td>\n",
       "      <td>0.0</td>\n",
       "      <td>0.0</td>\n",
       "      <td>0.0</td>\n",
       "      <td>0.0</td>\n",
       "      <td>0.0</td>\n",
       "    </tr>\n",
       "    <tr>\n",
       "      <th>3</th>\n",
       "      <td>-0.502</td>\n",
       "      <td>0.594</td>\n",
       "      <td>1.681</td>\n",
       "      <td>2.526</td>\n",
       "      <td>3.159</td>\n",
       "      <td>4.077</td>\n",
       "      <td>5.019</td>\n",
       "      <td>5.977</td>\n",
       "      <td>6.724</td>\n",
       "      <td>7.461</td>\n",
       "      <td>...</td>\n",
       "      <td>0.0</td>\n",
       "      <td>0.0</td>\n",
       "      <td>0.0</td>\n",
       "      <td>0.0</td>\n",
       "      <td>0.0</td>\n",
       "      <td>0.0</td>\n",
       "      <td>0.0</td>\n",
       "      <td>0.0</td>\n",
       "      <td>0.0</td>\n",
       "      <td>0.0</td>\n",
       "    </tr>\n",
       "    <tr>\n",
       "      <th>4</th>\n",
       "      <td>-5.194</td>\n",
       "      <td>-5.003</td>\n",
       "      <td>-4.554</td>\n",
       "      <td>-3.571</td>\n",
       "      <td>-2.220</td>\n",
       "      <td>-0.715</td>\n",
       "      <td>0.847</td>\n",
       "      <td>2.559</td>\n",
       "      <td>4.362</td>\n",
       "      <td>6.131</td>\n",
       "      <td>...</td>\n",
       "      <td>0.0</td>\n",
       "      <td>0.0</td>\n",
       "      <td>0.0</td>\n",
       "      <td>0.0</td>\n",
       "      <td>0.0</td>\n",
       "      <td>0.0</td>\n",
       "      <td>0.0</td>\n",
       "      <td>0.0</td>\n",
       "      <td>0.0</td>\n",
       "      <td>0.0</td>\n",
       "    </tr>\n",
       "  </tbody>\n",
       "</table>\n",
       "<p>5 rows × 1300 columns</p>\n",
       "</div>"
      ],
      "text/plain": [
       "    0      1      2      3      4      5      6      7      8       9     ...  \\\n",
       "0 -4.029 -3.471 -2.999 -2.514 -1.720 -1.040 -0.634 -0.380 -0.191   0.066  ...   \n",
       "1 -5.764 -3.506 -1.123  1.007  2.433  4.100  5.734  7.342  9.078  10.720  ...   \n",
       "2 -7.060 -6.983 -6.535 -6.132 -5.218 -4.231 -3.070 -1.825 -0.783   0.181  ...   \n",
       "3 -0.502  0.594  1.681  2.526  3.159  4.077  5.019  5.977  6.724   7.461  ...   \n",
       "4 -5.194 -5.003 -4.554 -3.571 -2.220 -0.715  0.847  2.559  4.362   6.131  ...   \n",
       "\n",
       "   1290  1291  1292  1293  1294  1295  1296  1297  1298  1299  \n",
       "0   0.0   0.0   0.0   0.0   0.0   0.0   0.0   0.0   0.0   0.0  \n",
       "1   0.0   0.0   0.0   0.0   0.0   0.0   0.0   0.0   0.0   0.0  \n",
       "2   0.0   0.0   0.0   0.0   0.0   0.0   0.0   0.0   0.0   0.0  \n",
       "3   0.0   0.0   0.0   0.0   0.0   0.0   0.0   0.0   0.0   0.0  \n",
       "4   0.0   0.0   0.0   0.0   0.0   0.0   0.0   0.0   0.0   0.0  \n",
       "\n",
       "[5 rows x 1300 columns]"
      ]
     },
     "execution_count": 6,
     "metadata": {},
     "output_type": "execute_result"
    }
   ],
   "source": [
    "dat = dat.iloc[:, 0:1300]\n",
    "dat.head()"
   ]
  },
  {
   "cell_type": "markdown",
   "metadata": {},
   "source": [
    "### 2.1 data transformation"
   ]
  },
  {
   "cell_type": "code",
   "execution_count": 7,
   "metadata": {
    "id": "ypTzYmiS202o"
   },
   "outputs": [],
   "source": [
    "def generate_datasets_for_training(data, window_size,scale=True):\n",
    "  _l = len(data) \n",
    "  Xs = []\n",
    "  Ys = []\n",
    "  for i in range(0, (_l - window_size)):\n",
    "    # because this is an autoencoder - our Ys are the same as our Xs. No need to pull the next sequence of values\n",
    "    Xs.append(data[i:i+window_size])\n",
    "    Ys.append(data[i:i+window_size])\n",
    "  X, Y = [np.array(x) for x in (Xs, Ys)]\n",
    "  return  (X.shape[2], X, Y) "
   ]
  },
  {
   "cell_type": "code",
   "execution_count": 8,
   "metadata": {
    "id": "7Lnyj6S1ITvb"
   },
   "outputs": [],
   "source": [
    "feats, X, Y = generate_datasets_for_training(dat, 1)\n",
    "#set window_size = 1, we have 1300 variables need to be reconstruct"
   ]
  },
  {
   "cell_type": "code",
   "execution_count": 9,
   "metadata": {},
   "outputs": [
    {
     "data": {
      "text/plain": [
       "(15695, 1, 1300)"
      ]
     },
     "execution_count": 9,
     "metadata": {},
     "output_type": "execute_result"
    }
   ],
   "source": [
    "X.shape"
   ]
  },
  {
   "cell_type": "markdown",
   "metadata": {},
   "source": [
    "### 2.2 Train Test Split"
   ]
  },
  {
   "cell_type": "code",
   "execution_count": 10,
   "metadata": {},
   "outputs": [
    {
     "name": "stdout",
     "output_type": "stream",
     "text": [
      "(12556, 1, 1300)\n",
      "(12556, 1, 1300)\n"
     ]
    }
   ],
   "source": [
    "X_train, X_test, Y_train, Y_test = train_test_split(X, Y, test_size = 0.2, random_state = 1)\n",
    "print(X_train.shape)\n",
    "print(Y_train.shape)"
   ]
  },
  {
   "cell_type": "markdown",
   "metadata": {},
   "source": [
    "## 3 LSTM Model"
   ]
  },
  {
   "cell_type": "code",
   "execution_count": 14,
   "metadata": {},
   "outputs": [
    {
     "name": "stderr",
     "output_type": "stream",
     "text": [
      "2022-05-11 19:44:14.134633: I tensorflow/core/common_runtime/pluggable_device/pluggable_device_factory.cc:305] Could not identify NUMA node of platform GPU ID 0, defaulting to 0. Your kernel may not have been built with NUMA support.\n",
      "2022-05-11 19:44:14.135029: I tensorflow/core/common_runtime/pluggable_device/pluggable_device_factory.cc:271] Created TensorFlow device (/job:localhost/replica:0/task:0/device:GPU:0 with 0 MB memory) -> physical PluggableDevice (device: 0, name: METAL, pci bus id: <undefined>)\n"
     ]
    },
    {
     "name": "stdout",
     "output_type": "stream",
     "text": [
      "Metal device set to: Apple M1 Pro\n",
      "Model: \"model\"\n",
      "_________________________________________________________________\n",
      " Layer (type)                Output Shape              Param #   \n",
      "=================================================================\n",
      " encoder_1_input (InputLayer  [(None, 1, 1300)]        0         \n",
      " )                                                               \n",
      "                                                                 \n",
      " encoder_1 (LSTM)            (None, 1, 256)            1594368   \n",
      "                                                                 \n",
      " encoder_2 (LSTM)            (None, 1, 128)            197120    \n",
      "                                                                 \n",
      " encoder_3 (LSTM)            (None, 72)                57888     \n",
      "                                                                 \n",
      " encoder_decoder_bridge (Rep  (None, 1, 72)            0         \n",
      " eatVector)                                                      \n",
      "                                                                 \n",
      " sequential_1 (Sequential)   (None, 1, 1300)           873012    \n",
      "                                                                 \n",
      "=================================================================\n",
      "Total params: 2,722,388\n",
      "Trainable params: 2,722,388\n",
      "Non-trainable params: 0\n",
      "_________________________________________________________________\n"
     ]
    }
   ],
   "source": [
    "window_length = 1\n",
    "lstm_encoder = keras.Sequential([\n",
    "    keras.layers.LSTM(256, kernel_initializer='he_uniform', batch_input_shape=(None, window_length, feats), return_sequences=True, name='encoder_1'), \n",
    "    keras.layers.LSTM(128, kernel_initializer='he_uniform', return_sequences=True, name='encoder_2'),\n",
    "    keras.layers.LSTM(72, kernel_initializer='he_uniform', return_sequences=False, name='encoder_3'),\n",
    "    keras.layers.RepeatVector(window_length, name='encoder_decoder_bridge')\n",
    "])\n",
    "\n",
    "lstm_decoder = keras.Sequential([\n",
    "    keras.layers.LSTM(72, kernel_initializer='he_uniform', return_sequences=True, name='decoder_1'), \n",
    "    keras.layers.LSTM(128, kernel_initializer='he_uniform', return_sequences=True, name='decoder_2'),\n",
    "    keras.layers.LSTM(256, kernel_initializer='he_uniform', return_sequences=True, name='decoder_3'), \n",
    "    keras.layers.TimeDistributed(keras.layers.Dense(feats)),\n",
    "])\n",
    "    \n",
    "lstm_autoencoder = Model(inputs = lstm_encoder.input, outputs = lstm_decoder(lstm_encoder.output))\n",
    "lstm_autoencoder.compile(loss='mse', optimizer='adam', metrics = ['mae'])\n",
    "lstm_autoencoder.summary()\n",
    "\n",
    "\n"
   ]
  },
  {
   "cell_type": "code",
   "execution_count": 15,
   "metadata": {},
   "outputs": [
    {
     "name": "stdout",
     "output_type": "stream",
     "text": [
      "Epoch 1/200\n"
     ]
    },
    {
     "name": "stderr",
     "output_type": "stream",
     "text": [
      "2022-05-11 19:44:18.918025: W tensorflow/core/platform/profile_utils/cpu_utils.cc:128] Failed to get CPU frequency: 0 Hz\n",
      "2022-05-11 19:44:23.005510: I tensorflow/core/grappler/optimizers/custom_graph_optimizer_registry.cc:113] Plugin optimizer for device_type GPU is enabled.\n",
      "2022-05-11 19:44:23.686437: I tensorflow/core/grappler/optimizers/custom_graph_optimizer_registry.cc:113] Plugin optimizer for device_type GPU is enabled.\n",
      "2022-05-11 19:44:23.743808: I tensorflow/core/grappler/optimizers/custom_graph_optimizer_registry.cc:113] Plugin optimizer for device_type GPU is enabled.\n",
      "2022-05-11 19:44:23.782338: I tensorflow/core/grappler/optimizers/custom_graph_optimizer_registry.cc:113] Plugin optimizer for device_type GPU is enabled.\n",
      "2022-05-11 19:44:23.833067: I tensorflow/core/grappler/optimizers/custom_graph_optimizer_registry.cc:113] Plugin optimizer for device_type GPU is enabled.\n",
      "2022-05-11 19:44:23.871645: I tensorflow/core/grappler/optimizers/custom_graph_optimizer_registry.cc:113] Plugin optimizer for device_type GPU is enabled.\n",
      "2022-05-11 19:44:23.909749: I tensorflow/core/grappler/optimizers/custom_graph_optimizer_registry.cc:113] Plugin optimizer for device_type GPU is enabled.\n",
      "2022-05-11 19:44:24.017629: I tensorflow/core/grappler/optimizers/custom_graph_optimizer_registry.cc:113] Plugin optimizer for device_type GPU is enabled.\n",
      "2022-05-11 19:44:24.105673: I tensorflow/core/grappler/optimizers/custom_graph_optimizer_registry.cc:113] Plugin optimizer for device_type GPU is enabled.\n",
      "2022-05-11 19:44:24.175152: I tensorflow/core/grappler/optimizers/custom_graph_optimizer_registry.cc:113] Plugin optimizer for device_type GPU is enabled.\n",
      "2022-05-11 19:44:24.242160: I tensorflow/core/grappler/optimizers/custom_graph_optimizer_registry.cc:113] Plugin optimizer for device_type GPU is enabled.\n",
      "2022-05-11 19:44:24.309154: I tensorflow/core/grappler/optimizers/custom_graph_optimizer_registry.cc:113] Plugin optimizer for device_type GPU is enabled.\n",
      "2022-05-11 19:44:24.371578: I tensorflow/core/grappler/optimizers/custom_graph_optimizer_registry.cc:113] Plugin optimizer for device_type GPU is enabled.\n"
     ]
    },
    {
     "name": "stdout",
     "output_type": "stream",
     "text": [
      "314/314 [==============================] - ETA: 0s - loss: 2375.4111 - mae: 28.3187"
     ]
    },
    {
     "name": "stderr",
     "output_type": "stream",
     "text": [
      "2022-05-11 19:44:34.674752: I tensorflow/core/grappler/optimizers/custom_graph_optimizer_registry.cc:113] Plugin optimizer for device_type GPU is enabled.\n",
      "2022-05-11 19:44:34.956891: I tensorflow/core/grappler/optimizers/custom_graph_optimizer_registry.cc:113] Plugin optimizer for device_type GPU is enabled.\n",
      "2022-05-11 19:44:35.028129: I tensorflow/core/grappler/optimizers/custom_graph_optimizer_registry.cc:113] Plugin optimizer for device_type GPU is enabled.\n",
      "2022-05-11 19:44:35.087578: I tensorflow/core/grappler/optimizers/custom_graph_optimizer_registry.cc:113] Plugin optimizer for device_type GPU is enabled.\n",
      "2022-05-11 19:44:35.164105: I tensorflow/core/grappler/optimizers/custom_graph_optimizer_registry.cc:113] Plugin optimizer for device_type GPU is enabled.\n",
      "2022-05-11 19:44:35.221504: I tensorflow/core/grappler/optimizers/custom_graph_optimizer_registry.cc:113] Plugin optimizer for device_type GPU is enabled.\n",
      "2022-05-11 19:44:35.296304: I tensorflow/core/grappler/optimizers/custom_graph_optimizer_registry.cc:113] Plugin optimizer for device_type GPU is enabled.\n"
     ]
    },
    {
     "name": "stdout",
     "output_type": "stream",
     "text": [
      "WARNING:tensorflow:Can save best model only with val_accuracy available, skipping.\n",
      "314/314 [==============================] - 17s 38ms/step - loss: 2375.4111 - mae: 28.3187 - val_loss: 1478.0101 - val_mae: 22.3665\n",
      "Epoch 2/200\n",
      "313/314 [============================>.] - ETA: 0s - loss: 1239.9940 - mae: 20.7729WARNING:tensorflow:Can save best model only with val_accuracy available, skipping.\n",
      "314/314 [==============================] - 9s 29ms/step - loss: 1238.9205 - mae: 20.7636 - val_loss: 1137.3455 - val_mae: 20.0166\n",
      "Epoch 3/200\n",
      "313/314 [============================>.] - ETA: 0s - loss: 1095.1584 - mae: 19.7736WARNING:tensorflow:Can save best model only with val_accuracy available, skipping.\n",
      "314/314 [==============================] - 9s 29ms/step - loss: 1095.0964 - mae: 19.7725 - val_loss: 1102.8347 - val_mae: 19.9020\n",
      "Epoch 4/200\n",
      "313/314 [============================>.] - ETA: 0s - loss: 1083.0421 - mae: 19.7496WARNING:tensorflow:Can save best model only with val_accuracy available, skipping.\n",
      "314/314 [==============================] - 9s 28ms/step - loss: 1082.3832 - mae: 19.7433 - val_loss: 1099.6586 - val_mae: 19.8636\n",
      "Epoch 5/200\n",
      "313/314 [============================>.] - ETA: 0s - loss: 1080.7041 - mae: 19.7428WARNING:tensorflow:Can save best model only with val_accuracy available, skipping.\n",
      "314/314 [==============================] - 9s 27ms/step - loss: 1081.1812 - mae: 19.7459 - val_loss: 1100.7260 - val_mae: 19.9264\n",
      "Epoch 6/200\n",
      "313/314 [============================>.] - ETA: 0s - loss: 1077.8070 - mae: 19.7062WARNING:tensorflow:Can save best model only with val_accuracy available, skipping.\n",
      "314/314 [==============================] - 9s 29ms/step - loss: 1078.4299 - mae: 19.7097 - val_loss: 1089.7191 - val_mae: 19.7049\n",
      "Epoch 7/200\n",
      "314/314 [==============================] - ETA: 0s - loss: 1052.4324 - mae: 19.3565WARNING:tensorflow:Can save best model only with val_accuracy available, skipping.\n",
      "314/314 [==============================] - 9s 28ms/step - loss: 1052.4324 - mae: 19.3565 - val_loss: 1059.1729 - val_mae: 19.3760\n",
      "Epoch 8/200\n",
      "313/314 [============================>.] - ETA: 0s - loss: 1041.3064 - mae: 19.2538WARNING:tensorflow:Can save best model only with val_accuracy available, skipping.\n",
      "314/314 [==============================] - 9s 29ms/step - loss: 1040.9996 - mae: 19.2513 - val_loss: 1054.5221 - val_mae: 19.2552\n",
      "Epoch 9/200\n",
      "314/314 [==============================] - ETA: 0s - loss: 1033.6381 - mae: 19.1947WARNING:tensorflow:Can save best model only with val_accuracy available, skipping.\n",
      "314/314 [==============================] - 9s 28ms/step - loss: 1033.6381 - mae: 19.1947 - val_loss: 1042.1582 - val_mae: 19.3127\n",
      "Epoch 10/200\n",
      "313/314 [============================>.] - ETA: 0s - loss: 1000.6051 - mae: 18.9511WARNING:tensorflow:Can save best model only with val_accuracy available, skipping.\n",
      "314/314 [==============================] - 9s 27ms/step - loss: 1000.6938 - mae: 18.9532 - val_loss: 1007.7906 - val_mae: 18.9234\n",
      "Epoch 11/200\n",
      "313/314 [============================>.] - ETA: 0s - loss: 952.2337 - mae: 18.4737WARNING:tensorflow:Can save best model only with val_accuracy available, skipping.\n",
      "314/314 [==============================] - 9s 27ms/step - loss: 951.8062 - mae: 18.4681 - val_loss: 947.0878 - val_mae: 18.3698\n",
      "Epoch 12/200\n",
      "312/314 [============================>.] - ETA: 0s - loss: 891.3119 - mae: 17.6648WARNING:tensorflow:Can save best model only with val_accuracy available, skipping.\n",
      "314/314 [==============================] - 9s 28ms/step - loss: 891.4469 - mae: 17.6625 - val_loss: 858.2915 - val_mae: 17.1391\n",
      "Epoch 13/200\n",
      "314/314 [==============================] - ETA: 0s - loss: 803.4902 - mae: 16.4191WARNING:tensorflow:Can save best model only with val_accuracy available, skipping.\n",
      "314/314 [==============================] - 9s 28ms/step - loss: 803.4902 - mae: 16.4191 - val_loss: 769.3006 - val_mae: 15.7058\n",
      "Epoch 14/200\n",
      "313/314 [============================>.] - ETA: 0s - loss: 652.3954 - mae: 14.5433WARNING:tensorflow:Can save best model only with val_accuracy available, skipping.\n",
      "314/314 [==============================] - 9s 30ms/step - loss: 652.7566 - mae: 14.5460 - val_loss: 598.4082 - val_mae: 13.8158\n",
      "Epoch 15/200\n",
      "314/314 [==============================] - ETA: 0s - loss: 564.6675 - mae: 13.4056WARNING:tensorflow:Can save best model only with val_accuracy available, skipping.\n",
      "314/314 [==============================] - 9s 28ms/step - loss: 564.6675 - mae: 13.4056 - val_loss: 554.7775 - val_mae: 13.1499\n",
      "Epoch 16/200\n",
      "313/314 [============================>.] - ETA: 0s - loss: 531.7477 - mae: 12.9477WARNING:tensorflow:Can save best model only with val_accuracy available, skipping.\n",
      "314/314 [==============================] - 9s 29ms/step - loss: 531.2763 - mae: 12.9418 - val_loss: 530.7350 - val_mae: 12.8797\n",
      "Epoch 17/200\n",
      "313/314 [============================>.] - ETA: 0s - loss: 519.5400 - mae: 12.7787WARNING:tensorflow:Can save best model only with val_accuracy available, skipping.\n",
      "314/314 [==============================] - 9s 30ms/step - loss: 519.5911 - mae: 12.7815 - val_loss: 539.4623 - val_mae: 13.1086\n",
      "Epoch 18/200\n",
      "313/314 [============================>.] - ETA: 0s - loss: 504.3945 - mae: 12.5634WARNING:tensorflow:Can save best model only with val_accuracy available, skipping.\n",
      "314/314 [==============================] - 9s 30ms/step - loss: 504.0495 - mae: 12.5610 - val_loss: 508.9442 - val_mae: 12.5441\n",
      "Epoch 19/200\n",
      "314/314 [==============================] - ETA: 0s - loss: 494.8464 - mae: 12.4079WARNING:tensorflow:Can save best model only with val_accuracy available, skipping.\n",
      "314/314 [==============================] - 9s 30ms/step - loss: 494.8464 - mae: 12.4079 - val_loss: 505.1917 - val_mae: 12.4871\n",
      "Epoch 20/200\n",
      "314/314 [==============================] - ETA: 0s - loss: 488.9512 - mae: 12.3222WARNING:tensorflow:Can save best model only with val_accuracy available, skipping.\n",
      "314/314 [==============================] - 9s 30ms/step - loss: 488.9512 - mae: 12.3222 - val_loss: 503.1160 - val_mae: 12.4563\n",
      "Epoch 21/200\n",
      "314/314 [==============================] - ETA: 0s - loss: 493.6405 - mae: 12.3575WARNING:tensorflow:Can save best model only with val_accuracy available, skipping.\n",
      "314/314 [==============================] - 9s 28ms/step - loss: 493.6405 - mae: 12.3575 - val_loss: 494.4118 - val_mae: 12.2539\n",
      "Epoch 22/200\n",
      "313/314 [============================>.] - ETA: 0s - loss: 485.3449 - mae: 12.2611WARNING:tensorflow:Can save best model only with val_accuracy available, skipping.\n",
      "314/314 [==============================] - 9s 28ms/step - loss: 485.5899 - mae: 12.2627 - val_loss: 499.7898 - val_mae: 12.3582\n",
      "Epoch 23/200\n",
      "314/314 [==============================] - ETA: 0s - loss: 486.3062 - mae: 12.2694WARNING:tensorflow:Can save best model only with val_accuracy available, skipping.\n",
      "314/314 [==============================] - 9s 28ms/step - loss: 486.3062 - mae: 12.2694 - val_loss: 494.2676 - val_mae: 12.3294\n",
      "Epoch 24/200\n",
      "314/314 [==============================] - ETA: 0s - loss: 485.1919 - mae: 12.2729WARNING:tensorflow:Can save best model only with val_accuracy available, skipping.\n",
      "314/314 [==============================] - 9s 28ms/step - loss: 485.1919 - mae: 12.2729 - val_loss: 495.1335 - val_mae: 12.3347\n",
      "Epoch 25/200\n",
      "314/314 [==============================] - ETA: 0s - loss: 479.3223 - mae: 12.1593WARNING:tensorflow:Can save best model only with val_accuracy available, skipping.\n",
      "314/314 [==============================] - 9s 29ms/step - loss: 479.3223 - mae: 12.1593 - val_loss: 495.6379 - val_mae: 12.3778\n",
      "Epoch 26/200\n",
      "314/314 [==============================] - ETA: 0s - loss: 475.0601 - mae: 12.0944WARNING:tensorflow:Can save best model only with val_accuracy available, skipping.\n",
      "314/314 [==============================] - 9s 29ms/step - loss: 475.0601 - mae: 12.0944 - val_loss: 491.9340 - val_mae: 12.2676\n",
      "Epoch 27/200\n",
      "313/314 [============================>.] - ETA: 0s - loss: 475.4611 - mae: 12.0835WARNING:tensorflow:Can save best model only with val_accuracy available, skipping.\n",
      "314/314 [==============================] - 9s 28ms/step - loss: 475.2333 - mae: 12.0817 - val_loss: 492.4186 - val_mae: 12.1880\n",
      "Epoch 28/200\n",
      "313/314 [============================>.] - ETA: 0s - loss: 471.9817 - mae: 12.0366WARNING:tensorflow:Can save best model only with val_accuracy available, skipping.\n",
      "314/314 [==============================] - 9s 28ms/step - loss: 471.7156 - mae: 12.0331 - val_loss: 480.7292 - val_mae: 12.0851\n",
      "Epoch 29/200\n",
      "314/314 [==============================] - ETA: 0s - loss: 466.6602 - mae: 11.9361WARNING:tensorflow:Can save best model only with val_accuracy available, skipping.\n",
      "314/314 [==============================] - 9s 28ms/step - loss: 466.6602 - mae: 11.9361 - val_loss: 476.0949 - val_mae: 12.0553\n",
      "Epoch 30/200\n",
      "313/314 [============================>.] - ETA: 0s - loss: 465.1636 - mae: 11.9147WARNING:tensorflow:Can save best model only with val_accuracy available, skipping.\n",
      "314/314 [==============================] - 9s 29ms/step - loss: 464.6684 - mae: 11.9085 - val_loss: 481.0307 - val_mae: 12.0934\n",
      "Epoch 31/200\n",
      "313/314 [============================>.] - ETA: 0s - loss: 464.8069 - mae: 11.9055WARNING:tensorflow:Can save best model only with val_accuracy available, skipping.\n",
      "314/314 [==============================] - 9s 29ms/step - loss: 464.7241 - mae: 11.9055 - val_loss: 476.8839 - val_mae: 12.0129\n",
      "Epoch 32/200\n",
      "314/314 [==============================] - ETA: 0s - loss: 459.2073 - mae: 11.8342WARNING:tensorflow:Can save best model only with val_accuracy available, skipping.\n",
      "314/314 [==============================] - 9s 28ms/step - loss: 459.2073 - mae: 11.8342 - val_loss: 475.2164 - val_mae: 11.9982\n",
      "Epoch 33/200\n",
      "314/314 [==============================] - ETA: 0s - loss: 460.2681 - mae: 11.8374WARNING:tensorflow:Can save best model only with val_accuracy available, skipping.\n",
      "314/314 [==============================] - 9s 28ms/step - loss: 460.2681 - mae: 11.8374 - val_loss: 475.9885 - val_mae: 12.0482\n",
      "Epoch 34/200\n",
      "314/314 [==============================] - ETA: 0s - loss: 466.4782 - mae: 11.9404WARNING:tensorflow:Can save best model only with val_accuracy available, skipping.\n",
      "314/314 [==============================] - 9s 28ms/step - loss: 466.4782 - mae: 11.9404 - val_loss: 476.7252 - val_mae: 12.0234\n",
      "Epoch 35/200\n",
      "313/314 [============================>.] - ETA: 0s - loss: 459.6402 - mae: 11.8525WARNING:tensorflow:Can save best model only with val_accuracy available, skipping.\n",
      "314/314 [==============================] - 9s 30ms/step - loss: 459.6069 - mae: 11.8525 - val_loss: 472.7632 - val_mae: 11.9533\n",
      "Epoch 36/200\n",
      "314/314 [==============================] - ETA: 0s - loss: 459.9199 - mae: 11.8451WARNING:tensorflow:Can save best model only with val_accuracy available, skipping.\n",
      "314/314 [==============================] - 9s 30ms/step - loss: 459.9199 - mae: 11.8451 - val_loss: 470.0659 - val_mae: 11.9416\n",
      "Epoch 37/200\n",
      "314/314 [==============================] - ETA: 0s - loss: 455.8254 - mae: 11.7794WARNING:tensorflow:Can save best model only with val_accuracy available, skipping.\n",
      "314/314 [==============================] - 9s 28ms/step - loss: 455.8254 - mae: 11.7794 - val_loss: 471.7280 - val_mae: 11.9664\n",
      "Epoch 38/200\n",
      "313/314 [============================>.] - ETA: 0s - loss: 460.9659 - mae: 11.8483WARNING:tensorflow:Can save best model only with val_accuracy available, skipping.\n",
      "314/314 [==============================] - 9s 28ms/step - loss: 460.7687 - mae: 11.8462 - val_loss: 483.8954 - val_mae: 12.0956\n",
      "Epoch 39/200\n",
      "312/314 [============================>.] - ETA: 0s - loss: 465.9558 - mae: 11.9153WARNING:tensorflow:Can save best model only with val_accuracy available, skipping.\n",
      "314/314 [==============================] - 9s 27ms/step - loss: 466.4928 - mae: 11.9187 - val_loss: 475.2180 - val_mae: 11.9353\n",
      "Epoch 40/200\n",
      "313/314 [============================>.] - ETA: 0s - loss: 458.6960 - mae: 11.8177WARNING:tensorflow:Can save best model only with val_accuracy available, skipping.\n",
      "314/314 [==============================] - 9s 27ms/step - loss: 458.2937 - mae: 11.8125 - val_loss: 471.6472 - val_mae: 11.9216\n",
      "Epoch 41/200\n",
      "313/314 [============================>.] - ETA: 0s - loss: 458.7567 - mae: 11.7930WARNING:tensorflow:Can save best model only with val_accuracy available, skipping.\n",
      "314/314 [==============================] - 9s 28ms/step - loss: 459.0222 - mae: 11.7937 - val_loss: 470.2640 - val_mae: 11.8780\n",
      "Epoch 42/200\n",
      "313/314 [============================>.] - ETA: 0s - loss: 461.8022 - mae: 11.8176WARNING:tensorflow:Can save best model only with val_accuracy available, skipping.\n",
      "314/314 [==============================] - 9s 27ms/step - loss: 461.6906 - mae: 11.8163 - val_loss: 476.8642 - val_mae: 12.0249\n",
      "Epoch 43/200\n",
      "314/314 [==============================] - ETA: 0s - loss: 459.5906 - mae: 11.7977WARNING:tensorflow:Can save best model only with val_accuracy available, skipping.\n",
      "314/314 [==============================] - 9s 27ms/step - loss: 459.5906 - mae: 11.7977 - val_loss: 471.1117 - val_mae: 11.8719\n",
      "Epoch 44/200\n",
      "313/314 [============================>.] - ETA: 0s - loss: 459.2704 - mae: 11.7940WARNING:tensorflow:Can save best model only with val_accuracy available, skipping.\n",
      "314/314 [==============================] - 9s 27ms/step - loss: 459.0223 - mae: 11.7921 - val_loss: 477.9130 - val_mae: 11.9453\n",
      "Epoch 45/200\n",
      "313/314 [============================>.] - ETA: 0s - loss: 466.9512 - mae: 11.9165WARNING:tensorflow:Can save best model only with val_accuracy available, skipping.\n",
      "314/314 [==============================] - 9s 27ms/step - loss: 466.9576 - mae: 11.9160 - val_loss: 475.8192 - val_mae: 11.9853\n",
      "Epoch 46/200\n",
      "314/314 [==============================] - ETA: 0s - loss: 463.3805 - mae: 11.8554WARNING:tensorflow:Can save best model only with val_accuracy available, skipping.\n",
      "314/314 [==============================] - 8s 27ms/step - loss: 463.3805 - mae: 11.8554 - val_loss: 478.6687 - val_mae: 12.0139\n",
      "Epoch 46: early stopping\n"
     ]
    }
   ],
   "source": [
    "es = EarlyStopping(monitor = 'val_loss', \n",
    "                  mode = 'min', \n",
    "                  verbose = 1, \n",
    "                  patience = 10)\n",
    "mc = ModelCheckpoint('best_model.h5', \n",
    "                     monitor='val_accuracy', \n",
    "                     mode='max', \n",
    "                     verbose=1, \n",
    "                     save_best_only=True)\n",
    "model_history = lstm_autoencoder.fit(X_train, Y_train, \n",
    "                                epochs=200, \n",
    "                                batch_size=32, \n",
    "                                validation_split = .2, \n",
    "                                verbose=1,\n",
    "                                callbacks = [es, mc])"
   ]
  },
  {
   "cell_type": "markdown",
   "metadata": {},
   "source": [
    "### 3. Model evaluation"
   ]
  },
  {
   "cell_type": "code",
   "execution_count": 17,
   "metadata": {},
   "outputs": [
    {
     "data": {
      "text/plain": [
       "<matplotlib.legend.Legend at 0x1662cad00>"
      ]
     },
     "execution_count": 17,
     "metadata": {},
     "output_type": "execute_result"
    },
    {
     "data": {
      "image/png": "[encoded data removed]",
      "text/plain": [
       "<Figure size 432x288 with 1 Axes>"
      ]
     },
     "metadata": {
      "needs_background": "light"
     },
     "output_type": "display_data"
    }
   ],
   "source": [
    "plt.plot(model_history.history['mae'], label='Training MAE')\n",
    "plt.plot(model_history.history['val_mae'], label='Validation MAE')\n",
    "plt.legend()"
   ]
  },
  {
   "cell_type": "code",
   "execution_count": 19,
   "metadata": {},
   "outputs": [
    {
     "name": "stderr",
     "output_type": "stream",
     "text": [
      "2022-05-11 19:52:48.028331: I tensorflow/core/grappler/optimizers/custom_graph_optimizer_registry.cc:113] Plugin optimizer for device_type GPU is enabled.\n",
      "2022-05-11 19:52:48.275699: I tensorflow/core/grappler/optimizers/custom_graph_optimizer_registry.cc:113] Plugin optimizer for device_type GPU is enabled.\n",
      "2022-05-11 19:52:48.377257: I tensorflow/core/grappler/optimizers/custom_graph_optimizer_registry.cc:113] Plugin optimizer for device_type GPU is enabled.\n",
      "2022-05-11 19:52:48.444226: I tensorflow/core/grappler/optimizers/custom_graph_optimizer_registry.cc:113] Plugin optimizer for device_type GPU is enabled.\n",
      "2022-05-11 19:52:48.497266: I tensorflow/core/grappler/optimizers/custom_graph_optimizer_registry.cc:113] Plugin optimizer for device_type GPU is enabled.\n",
      "2022-05-11 19:52:48.551325: I tensorflow/core/grappler/optimizers/custom_graph_optimizer_registry.cc:113] Plugin optimizer for device_type GPU is enabled.\n",
      "2022-05-11 19:52:48.592323: I tensorflow/core/grappler/optimizers/custom_graph_optimizer_registry.cc:113] Plugin optimizer for device_type GPU is enabled.\n",
      "2022-05-11 19:52:50.095826: I tensorflow/core/grappler/optimizers/custom_graph_optimizer_registry.cc:113] Plugin optimizer for device_type GPU is enabled.\n",
      "2022-05-11 19:52:50.212816: I tensorflow/core/grappler/optimizers/custom_graph_optimizer_registry.cc:113] Plugin optimizer for device_type GPU is enabled.\n",
      "2022-05-11 19:52:50.249385: I tensorflow/core/grappler/optimizers/custom_graph_optimizer_registry.cc:113] Plugin optimizer for device_type GPU is enabled.\n",
      "2022-05-11 19:52:50.287123: I tensorflow/core/grappler/optimizers/custom_graph_optimizer_registry.cc:113] Plugin optimizer for device_type GPU is enabled.\n"
     ]
    }
   ],
   "source": [
    "result_lstm = lstm_autoencoder.predict(X_test)\n",
    "latent_lstm = lstm_encoder.predict(X_test)"
   ]
  },
  {
   "cell_type": "code",
   "execution_count": 20,
   "metadata": {},
   "outputs": [
    {
     "data": {
      "image/png": "[encoded data removed]",
      "text/plain": [
       "<Figure size 432x288 with 1 Axes>"
      ]
     },
     "metadata": {
      "needs_background": "light"
     },
     "output_type": "display_data"
    }
   ],
   "source": [
    "i = 10\n",
    "plt.title('reconstruct curve')\n",
    "plt.xlabel('index')\n",
    "plt.ylabel('value')\n",
    "plt.plot(X_test[i].reshape(1300, -1), label='intput')\n",
    "plt.plot(result_lstm[i].reshape(1300,-1), label='output')\n",
    "plt.legend()\n",
    "plt.show()\n",
    "\n"
   ]
  },
  {
   "cell_type": "code",
   "execution_count": 25,
   "metadata": {},
   "outputs": [],
   "source": [
    "loss = tf.keras.losses.mean_absolute_error(X_test, result_lstm)"
   ]
  },
  {
   "cell_type": "code",
   "execution_count": 28,
   "metadata": {},
   "outputs": [
    {
     "data": {
      "text/plain": [
       "11.998755"
      ]
     },
     "execution_count": 28,
     "metadata": {},
     "output_type": "execute_result"
    }
   ],
   "source": [
    "np.array(tf.keras.losses.mean_absolute_error(X_test, result_lstm)).mean()"
   ]
  },
  {
   "cell_type": "code",
   "execution_count": null,
   "metadata": {},
   "outputs": [],
   "source": []
  }
 ],
 "metadata": {
  "colab": {
   "name": "Copy of lstm_autoencoder.ipynb",
   "provenance": []
  },
  "kernelspec": {
   "display_name": "Python 3 (ipykernel)",
   "language": "python",
   "name": "python3"
  },
  "language_info": {
   "codemirror_mode": {
    "name": "ipython",
    "version": 3
   },
   "file_extension": ".py",
   "mimetype": "text/x-python",
   "name": "python",
   "nbconvert_exporter": "python",
   "pygments_lexer": "ipython3",
   "version": "3.8.13"
  }
 },
 "nbformat": 4,
 "nbformat_minor": 1
}
